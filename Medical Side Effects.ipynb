{
 "cells": [
  {
   "cell_type": "code",
   "execution_count": 1,
   "metadata": {
    "id": "i13Bfj6TRkbK"
   },
   "outputs": [],
   "source": [
    "import numpy as np\n",
    "from random import randint\n",
    "from sklearn.utils import shuffle\n",
    "from sklearn.preprocessing import MinMaxScaler"
   ]
  },
  {
   "cell_type": "markdown",
   "metadata": {
    "id": "_d7Ekj4sMKfV"
   },
   "source": [
    "Creating Data"
   ]
  },
  {
   "cell_type": "code",
   "execution_count": 2,
   "metadata": {
    "id": "Sm-QEPDjSLVY"
   },
   "outputs": [],
   "source": [
    "train_samples = []\n",
    "train_labels = []"
   ]
  },
  {
   "cell_type": "code",
   "execution_count": 3,
   "metadata": {
    "id": "xVAD7r1aSUiM"
   },
   "outputs": [],
   "source": [
    "for i in range(50):\n",
    "  #5% of young people who have side effects\n",
    "  random_young = randint(13,64)\n",
    "  train_samples.append(random_young)\n",
    "  train_labels.append(1)\n",
    "\n",
    "  #5% of old people who do NOT have side effects\n",
    "  random_old = randint(65,100)\n",
    "  train_samples.append(random_old)\n",
    "  train_labels.append(0)\n",
    "\n",
    "for i in range(1000):\n",
    "  #95% of young people who do NOT have side effects\n",
    "  random_young = randint(13,64)\n",
    "  train_samples.append(random_young)\n",
    "  train_labels.append(0)\n",
    "\n",
    "  #95% of old people who have side effects\n",
    "  random_old = randint(65,100)\n",
    "  train_samples.append(random_old)\n",
    "  train_labels.append(1)"
   ]
  },
  {
   "cell_type": "markdown",
   "metadata": {
    "id": "TkDNpCFVNOa8"
   },
   "source": [
    "Converting to a Numpy Array and Shuffling the dataset"
   ]
  },
  {
   "cell_type": "code",
   "execution_count": 4,
   "metadata": {
    "id": "iOGXKfYlTG3J"
   },
   "outputs": [],
   "source": [
    "train_samples = np.array(train_samples)\n",
    "train_labels = np.array(train_labels)\n",
    "train_samples, train_labels = shuffle(train_samples, train_labels)"
   ]
  },
  {
   "cell_type": "markdown",
   "metadata": {
    "id": "VjFa6nsVNRaD"
   },
   "source": [
    "Converting the ages from (13 to 100) to between (0 and 1)"
   ]
  },
  {
   "cell_type": "code",
   "execution_count": 5,
   "metadata": {
    "id": "o6m48w-rwXLK"
   },
   "outputs": [],
   "source": [
    "scaler = MinMaxScaler(feature_range=(0,1))\n",
    "scaled_train_samples = scaler.fit_transform(train_samples.reshape(-1,1))"
   ]
  },
  {
   "cell_type": "markdown",
   "metadata": {
    "id": "s29ufFytNhiV"
   },
   "source": [
    "Modelling - Sequential"
   ]
  },
  {
   "cell_type": "code",
   "execution_count": 6,
   "metadata": {
    "id": "5rIhkvTCwsPI"
   },
   "outputs": [],
   "source": [
    "import tensorflow as tf\n",
    "from tensorflow import keras\n",
    "from tensorflow.keras.models import Sequential\n",
    "from tensorflow.keras.layers import Activation, Dense\n",
    "from tensorflow.keras.optimizers import Adam\n",
    "from tensorflow.keras.metrics import categorical_crossentropy"
   ]
  },
  {
   "cell_type": "code",
   "execution_count": 7,
   "metadata": {
    "id": "VZFwBCMixR-Y"
   },
   "outputs": [],
   "source": [
    "model = Sequential([\n",
    "                    Dense(units=16, input_shape=(1,), activation='relu'),\n",
    "                    Dense(units=32, activation='relu'),\n",
    "                    Dense(units=2, activation='softmax')\n",
    "])"
   ]
  },
  {
   "cell_type": "code",
   "execution_count": 8,
   "metadata": {
    "colab": {
     "base_uri": "https://localhost:8080/"
    },
    "id": "XpbwxqU6x2F3",
    "outputId": "08a4676f-f7f7-408f-c0ea-be38741b5c47"
   },
   "outputs": [
    {
     "name": "stdout",
     "output_type": "stream",
     "text": [
      "Model: \"sequential\"\n",
      "_________________________________________________________________\n",
      "Layer (type)                 Output Shape              Param #   \n",
      "=================================================================\n",
      "dense (Dense)                (None, 16)                32        \n",
      "_________________________________________________________________\n",
      "dense_1 (Dense)              (None, 32)                544       \n",
      "_________________________________________________________________\n",
      "dense_2 (Dense)              (None, 2)                 66        \n",
      "=================================================================\n",
      "Total params: 642\n",
      "Trainable params: 642\n",
      "Non-trainable params: 0\n",
      "_________________________________________________________________\n"
     ]
    }
   ],
   "source": [
    "model.summary()"
   ]
  },
  {
   "cell_type": "code",
   "execution_count": 9,
   "metadata": {
    "id": "WzdADEBEx6NH"
   },
   "outputs": [],
   "source": [
    "model.compile(optimizer=Adam(learning_rate=0.001), loss='sparse_categorical_crossentropy', metrics=['accuracy'])"
   ]
  },
  {
   "cell_type": "markdown",
   "metadata": {
    "id": "WC4rAlYBNC6H"
   },
   "source": [
    "Fitting Model and Evaluating on 10% Validation dataset"
   ]
  },
  {
   "cell_type": "code",
   "execution_count": 10,
   "metadata": {
    "colab": {
     "base_uri": "https://localhost:8080/"
    },
    "id": "fiOPP8GuyiF-",
    "outputId": "e40ed449-9152-402d-f650-715db2b9497c"
   },
   "outputs": [
    {
     "name": "stdout",
     "output_type": "stream",
     "text": [
      "Train on 1890 samples, validate on 210 samples\n",
      "Epoch 1/30\n",
      "1890/1890 - 4s - loss: 0.5405 - accuracy: 0.7291 - val_loss: 0.4299 - val_accuracy: 0.8762\n",
      "Epoch 2/30\n",
      "1890/1890 - 1s - loss: 0.3481 - accuracy: 0.9042 - val_loss: 0.2910 - val_accuracy: 0.9286\n",
      "Epoch 3/30\n",
      "1890/1890 - 1s - loss: 0.2749 - accuracy: 0.9344 - val_loss: 0.2475 - val_accuracy: 0.9619\n",
      "Epoch 4/30\n",
      "1890/1890 - 1s - loss: 0.2585 - accuracy: 0.9376 - val_loss: 0.2358 - val_accuracy: 0.9619\n",
      "Epoch 5/30\n",
      "1890/1890 - 1s - loss: 0.2507 - accuracy: 0.9354 - val_loss: 0.2323 - val_accuracy: 0.9524\n",
      "Epoch 6/30\n",
      "1890/1890 - 1s - loss: 0.2464 - accuracy: 0.9402 - val_loss: 0.2287 - val_accuracy: 0.9524\n",
      "Epoch 7/30\n",
      "1890/1890 - 1s - loss: 0.2454 - accuracy: 0.9402 - val_loss: 0.2238 - val_accuracy: 0.9476\n",
      "Epoch 8/30\n",
      "1890/1890 - 1s - loss: 0.2422 - accuracy: 0.9429 - val_loss: 0.2282 - val_accuracy: 0.9429\n",
      "Epoch 9/30\n",
      "1890/1890 - 1s - loss: 0.2410 - accuracy: 0.9392 - val_loss: 0.2207 - val_accuracy: 0.9524\n",
      "Epoch 10/30\n",
      "1890/1890 - 1s - loss: 0.2400 - accuracy: 0.9429 - val_loss: 0.2269 - val_accuracy: 0.9429\n",
      "Epoch 11/30\n",
      "1890/1890 - 1s - loss: 0.2385 - accuracy: 0.9429 - val_loss: 0.2199 - val_accuracy: 0.9524\n",
      "Epoch 12/30\n",
      "1890/1890 - 1s - loss: 0.2379 - accuracy: 0.9423 - val_loss: 0.2218 - val_accuracy: 0.9429\n",
      "Epoch 13/30\n",
      "1890/1890 - 1s - loss: 0.2393 - accuracy: 0.9413 - val_loss: 0.2224 - val_accuracy: 0.9429\n",
      "Epoch 14/30\n",
      "1890/1890 - 1s - loss: 0.2391 - accuracy: 0.9397 - val_loss: 0.2184 - val_accuracy: 0.9524\n",
      "Epoch 15/30\n",
      "1890/1890 - 1s - loss: 0.2354 - accuracy: 0.9386 - val_loss: 0.2239 - val_accuracy: 0.9429\n",
      "Epoch 16/30\n",
      "1890/1890 - 1s - loss: 0.2374 - accuracy: 0.9402 - val_loss: 0.2243 - val_accuracy: 0.9429\n",
      "Epoch 17/30\n",
      "1890/1890 - 1s - loss: 0.2369 - accuracy: 0.9434 - val_loss: 0.2164 - val_accuracy: 0.9524\n",
      "Epoch 18/30\n",
      "1890/1890 - 1s - loss: 0.2352 - accuracy: 0.9418 - val_loss: 0.2198 - val_accuracy: 0.9429\n",
      "Epoch 19/30\n",
      "1890/1890 - 1s - loss: 0.2366 - accuracy: 0.9397 - val_loss: 0.2182 - val_accuracy: 0.9429\n",
      "Epoch 20/30\n",
      "1890/1890 - 1s - loss: 0.2336 - accuracy: 0.9439 - val_loss: 0.2125 - val_accuracy: 0.9476\n",
      "Epoch 21/30\n",
      "1890/1890 - 1s - loss: 0.2343 - accuracy: 0.9423 - val_loss: 0.2120 - val_accuracy: 0.9619\n",
      "Epoch 22/30\n",
      "1890/1890 - 1s - loss: 0.2350 - accuracy: 0.9444 - val_loss: 0.2209 - val_accuracy: 0.9429\n",
      "Epoch 23/30\n",
      "1890/1890 - 1s - loss: 0.2330 - accuracy: 0.9444 - val_loss: 0.2120 - val_accuracy: 0.9524\n",
      "Epoch 24/30\n",
      "1890/1890 - 1s - loss: 0.2328 - accuracy: 0.9439 - val_loss: 0.2112 - val_accuracy: 0.9524\n",
      "Epoch 25/30\n",
      "1890/1890 - 1s - loss: 0.2311 - accuracy: 0.9444 - val_loss: 0.2105 - val_accuracy: 0.9524\n",
      "Epoch 26/30\n",
      "1890/1890 - 1s - loss: 0.2313 - accuracy: 0.9444 - val_loss: 0.2135 - val_accuracy: 0.9429\n",
      "Epoch 27/30\n",
      "1890/1890 - 1s - loss: 0.2302 - accuracy: 0.9434 - val_loss: 0.2115 - val_accuracy: 0.9524\n",
      "Epoch 28/30\n",
      "1890/1890 - 1s - loss: 0.2303 - accuracy: 0.9455 - val_loss: 0.2086 - val_accuracy: 0.9524\n",
      "Epoch 29/30\n",
      "1890/1890 - 1s - loss: 0.2300 - accuracy: 0.9450 - val_loss: 0.2126 - val_accuracy: 0.9429\n",
      "Epoch 30/30\n",
      "1890/1890 - 1s - loss: 0.2285 - accuracy: 0.9434 - val_loss: 0.2087 - val_accuracy: 0.9524\n"
     ]
    },
    {
     "data": {
      "text/plain": [
       "<tensorflow.python.keras.callbacks.History at 0x1a42c45410>"
      ]
     },
     "execution_count": 10,
     "metadata": {},
     "output_type": "execute_result"
    }
   ],
   "source": [
    "model.fit(x=scaled_train_samples, y=train_labels, validation_split=0.1, batch_size=10, epochs=30, shuffle=True, verbose=2)"
   ]
  },
  {
   "cell_type": "markdown",
   "metadata": {
    "id": "wduljsEdMlnD"
   },
   "source": [
    "Creating Test data"
   ]
  },
  {
   "cell_type": "code",
   "execution_count": 11,
   "metadata": {
    "id": "lYM5ASYcy9_0"
   },
   "outputs": [],
   "source": [
    "test_samples=[]\n",
    "test_labels=[]"
   ]
  },
  {
   "cell_type": "code",
   "execution_count": 12,
   "metadata": {
    "id": "K2mE0VwMzl1D"
   },
   "outputs": [],
   "source": [
    "for i in range(10):\n",
    "  #5% of young people who have side effects\n",
    "  random_young = randint(13,64)\n",
    "  test_samples.append(random_young)\n",
    "  test_labels.append(1)\n",
    "\n",
    "  #5% of old people who do NOT have side effects\n",
    "  random_old = randint(65,100)\n",
    "  test_samples.append(random_old)\n",
    "  test_labels.append(0)\n",
    "\n",
    "for i in range(200):\n",
    "  #95% of young people who do NOT have side effects\n",
    "  random_young = randint(13,64)\n",
    "  test_samples.append(random_young)\n",
    "  test_labels.append(0)\n",
    "\n",
    "  #95% of old people who have side effects\n",
    "  random_old = randint(65,100)\n",
    "  test_samples.append(random_old)\n",
    "  test_labels.append(1)"
   ]
  },
  {
   "cell_type": "code",
   "execution_count": 13,
   "metadata": {
    "id": "rHdIIfWvzptU"
   },
   "outputs": [],
   "source": [
    "test_samples = np.array(test_samples)\n",
    "test_labels = np.array(test_labels)\n",
    "test_samples, test_labels = shuffle(test_samples, test_labels)"
   ]
  },
  {
   "cell_type": "code",
   "execution_count": 14,
   "metadata": {
    "id": "HwWDl-XIzuvQ"
   },
   "outputs": [],
   "source": [
    "scaler = MinMaxScaler(feature_range=(0,1))\n",
    "scaled_test_samples = scaler.fit_transform(test_samples.reshape(-1,1))"
   ]
  },
  {
   "cell_type": "markdown",
   "metadata": {
    "id": "2yc8JBIIM8d2"
   },
   "source": [
    "Predictions"
   ]
  },
  {
   "cell_type": "code",
   "execution_count": 15,
   "metadata": {
    "id": "Wzwc2ttJ0Ia3"
   },
   "outputs": [],
   "source": [
    "predictions = model.predict(x=scaled_test_samples, batch_size=10, verbose=0)"
   ]
  },
  {
   "cell_type": "code",
   "execution_count": 16,
   "metadata": {
    "id": "yCd6X6_S0Za2"
   },
   "outputs": [
    {
     "name": "stdout",
     "output_type": "stream",
     "text": [
      "[0.0398035 0.9601965]\n",
      "[0.46882677 0.5311733 ]\n",
      "[0.96368885 0.03631113]\n",
      "[0.00687744 0.9931225 ]\n",
      "[0.02876984 0.97123015]\n",
      "[0.9707949  0.02920507]\n",
      "[0.9595015  0.04049853]\n",
      "[0.94292694 0.05707302]\n",
      "[0.93459755 0.0654025 ]\n",
      "[0.9709126  0.02908746]\n",
      "[0.01196634 0.98803365]\n",
      "[0.46882677 0.5311733 ]\n",
      "[0.09226266 0.9077374 ]\n",
      "[0.9714296  0.02857042]\n",
      "[0.21596141 0.7840386 ]\n",
      "[0.00768469 0.9923153 ]\n",
      "[0.97126263 0.02873736]\n",
      "[0.032065 0.967935]\n",
      "[0.02313886 0.9768611 ]\n",
      "[0.06769544 0.93230456]\n",
      "[0.01336288 0.9866371 ]\n",
      "[0.9173818 0.0826182]\n",
      "[0.10209074 0.8979093 ]\n",
      "[0.15112904 0.848871  ]\n",
      "[0.03573305 0.9642669 ]\n",
      "[0.0398035 0.9601965]\n",
      "[0.00959175 0.99040824]\n",
      "[0.13730204 0.86269796]\n",
      "[0.16608046 0.8339195 ]\n",
      "[0.9616501  0.03834999]\n",
      "[0.9707949  0.02920507]\n",
      "[0.0166554 0.9833446]\n",
      "[0.97126263 0.02873736]\n",
      "[0.04431632 0.95568365]\n",
      "[0.97140765 0.02859241]\n",
      "[0.00959175 0.99040824]\n",
      "[0.9709126  0.02908746]\n",
      "[0.9698075  0.03019243]\n",
      "[0.01071417 0.9892859 ]\n",
      "[0.032065 0.967935]\n",
      "[0.9710297 0.0289703]\n",
      "[0.04431632 0.95568365]\n",
      "[0.18219347 0.8178065 ]\n",
      "[0.9706769  0.02932316]\n",
      "[0.00858589 0.9914142 ]\n",
      "[0.397444 0.602556]\n",
      "[0.9698075  0.03019243]\n",
      "[0.13730204 0.86269796]\n",
      "[0.83517814 0.16482188]\n",
      "[0.94292694 0.05707302]\n",
      "[0.9616501  0.03834999]\n",
      "[0.11283561 0.88716435]\n",
      "[0.05484398 0.945156  ]\n",
      "[0.96863693 0.03136311]\n",
      "[0.11283561 0.88716435]\n",
      "[0.00687744 0.9931225 ]\n",
      "[0.0398035 0.9601965]\n",
      "[0.01071416 0.9892859 ]\n",
      "[0.9714296  0.02857042]\n",
      "[0.01196634 0.98803365]\n",
      "[0.08329298 0.91670704]\n",
      "[0.92440844 0.07559155]\n",
      "[0.07512311 0.92487687]\n",
      "[0.94292694 0.05707302]\n",
      "[0.04931444 0.95068556]\n",
      "[0.10209074 0.8979093 ]\n",
      "[0.9680352  0.03196481]\n",
      "[0.5415088 0.4584912]\n",
      "[0.01336289 0.9866371 ]\n",
      "[0.9706176  0.02938237]\n",
      "[0.09226266 0.9077374 ]\n",
      "[0.9467082  0.05329181]\n",
      "[0.01336288 0.9866371 ]\n",
      "[0.9523434 0.0476566]\n",
      "[0.06095375 0.93904626]\n",
      "[0.9710297 0.0289703]\n",
      "[0.2692029 0.7307971]\n",
      "[0.01491997 0.98508006]\n",
      "[0.97120464 0.02879543]\n",
      "[0.9714362  0.02856385]\n",
      "[0.9077217  0.09227831]\n",
      "[0.10209074 0.8979093 ]\n",
      "[0.01491997 0.98508006]\n",
      "[0.93459755 0.0654025 ]\n",
      "[0.97132057 0.02867941]\n",
      "[0.9706769  0.02932316]\n",
      "[0.9656232  0.03437679]\n",
      "[0.9698075  0.03019243]\n",
      "[0.04931444 0.95068556]\n",
      "[0.01665541 0.9833446 ]\n",
      "[0.9467082  0.05329181]\n",
      "[0.9707949  0.02920507]\n",
      "[0.01491997 0.98508006]\n",
      "[0.9708538  0.02914622]\n",
      "[0.9709358  0.02906415]\n",
      "[0.92984486 0.0701552 ]\n",
      "[0.9388948 0.0611052]\n",
      "[0.03573305 0.9642669 ]\n",
      "[0.10209075 0.8979092 ]\n",
      "[0.04431632 0.95568365]\n",
      "[0.96863693 0.03136311]\n",
      "[0.04431632 0.95568365]\n",
      "[0.04431632 0.95568365]\n",
      "[0.83517814 0.16482188]\n",
      "[0.00858589 0.9914142 ]\n",
      "[0.00858589 0.9914142 ]\n",
      "[0.0398035 0.9601965]\n",
      "[0.7388954  0.26110458]\n",
      "[0.9709126  0.02908746]\n",
      "[0.09226268 0.9077373 ]\n",
      "[0.01196634 0.98803365]\n",
      "[0.16608045 0.8339196 ]\n",
      "[0.01336288 0.9866371 ]\n",
      "[0.18219347 0.8178065 ]\n",
      "[0.9714362  0.02856385]\n",
      "[0.02074212 0.9792579 ]\n",
      "[0.03573305 0.9642669 ]\n",
      "[0.9523434 0.0476566]\n",
      "[0.6789525  0.32104746]\n",
      "[0.9706769  0.02932316]\n",
      "[0.04931444 0.95068556]\n",
      "[0.397444 0.602556]\n",
      "[0.11283561 0.88716435]\n",
      "[0.9710297 0.0289703]\n",
      "[0.00959175 0.99040824]\n",
      "[0.10209074 0.8979093 ]\n",
      "[0.9713784  0.02862157]\n",
      "[0.97126263 0.02873736]\n",
      "[0.9595015  0.04049853]\n",
      "[0.16608046 0.8339195 ]\n",
      "[0.9707949  0.02920507]\n",
      "[0.97120464 0.02879543]\n",
      "[0.7910898  0.20891024]\n",
      "[0.0398035 0.9601965]\n",
      "[0.0398035 0.9601965]\n",
      "[0.03573305 0.9642669 ]\n",
      "[0.00687744 0.9931225 ]\n",
      "[0.15112904 0.848871  ]\n",
      "[0.01071417 0.9892859 ]\n",
      "[0.9713785  0.02862157]\n",
      "[0.9705583  0.02944169]\n",
      "[0.94292694 0.05707302]\n",
      "[0.06095375 0.93904626]\n",
      "[0.97141856 0.02858142]\n",
      "[0.08329298 0.91670704]\n",
      "[0.9077217  0.09227831]\n",
      "[0.9173818 0.0826182]\n",
      "[0.9709126  0.02908746]\n",
      "[0.9706769  0.02932316]\n",
      "[0.94292694 0.05707302]\n",
      "[0.03573305 0.9642669 ]\n",
      "[0.94292694 0.05707302]\n",
      "[0.9707949  0.02920507]\n",
      "[0.9714296  0.02857042]\n",
      "[0.02580524 0.97419477]\n",
      "[0.02074212 0.9792579 ]\n",
      "[0.9706769  0.02932316]\n",
      "[0.9710297 0.0289703]\n",
      "[0.15112902 0.848871  ]\n",
      "[0.07512311 0.92487687]\n",
      "[0.9714296  0.02857042]\n",
      "[0.10209074 0.8979093 ]\n",
      "[0.9077217  0.09227831]\n",
      "[0.08329298 0.91670704]\n",
      "[0.032065 0.967935]\n",
      "[0.01336288 0.9866371 ]\n",
      "[0.21596141 0.7840386 ]\n",
      "[0.9710297 0.0289703]\n",
      "[0.01665541 0.9833446 ]\n",
      "[0.04931444 0.95068556]\n",
      "[0.9173818 0.0826182]\n",
      "[0.9709358  0.02906415]\n",
      "[0.02074212 0.9792579 ]\n",
      "[0.9705583  0.02944169]\n",
      "[0.9713784  0.02862157]\n",
      "[0.6789525  0.32104746]\n",
      "[0.05484398 0.945156  ]\n",
      "[0.9656232  0.03437679]\n",
      "[0.9707949  0.02920507]\n",
      "[0.46882677 0.5311733 ]\n",
      "[0.00959175 0.99040824]\n",
      "[0.9709358  0.02906415]\n",
      "[0.6789525  0.32104746]\n",
      "[0.9467082  0.05329181]\n",
      "[0.9173818 0.0826182]\n",
      "[0.9706769  0.02932316]\n",
      "[0.97120464 0.02879543]\n",
      "[0.15112904 0.848871  ]\n",
      "[0.7910898  0.20891024]\n",
      "[0.02313886 0.9768611 ]\n",
      "[0.11283561 0.88716435]\n",
      "[0.9710297 0.0289703]\n",
      "[0.9467082  0.05329181]\n",
      "[0.83517814 0.16482188]\n",
      "[0.9713966  0.02860341]\n",
      "[0.97097117 0.02902882]\n",
      "[0.02580524 0.97419477]\n",
      "[0.9710297 0.0289703]\n",
      "[0.01858889 0.98141116]\n",
      "[0.92440844 0.07559155]\n",
      "[0.03573305 0.9642669 ]\n",
      "[0.83517814 0.16482188]\n",
      "[0.9705583  0.02944169]\n",
      "[0.9706769  0.02932316]\n",
      "[0.89373183 0.10626817]\n",
      "[0.93459755 0.0654025 ]\n",
      "[0.97037697 0.02962309]\n",
      "[0.9713966  0.02860341]\n",
      "[0.08329296 0.91670704]\n",
      "[0.01491997 0.98508006]\n",
      "[0.9710297 0.0289703]\n",
      "[0.02074212 0.9792579 ]\n",
      "[0.02580524 0.97419477]\n",
      "[0.00687744 0.9931225 ]\n",
      "[0.02580524 0.97419477]\n",
      "[0.97073597 0.02926405]\n",
      "[0.0398035 0.9601965]\n",
      "[0.9709126  0.02908746]\n",
      "[0.9077217  0.09227834]\n",
      "[0.00687744 0.9931225 ]\n",
      "[0.97140765 0.02859241]\n",
      "[0.04431632 0.95568365]\n",
      "[0.9709126  0.02908746]\n",
      "[0.9523434 0.0476566]\n",
      "[0.08329298 0.91670704]\n",
      "[0.13730204 0.86269796]\n",
      "[0.97132057 0.02867941]\n",
      "[0.9708538  0.02914622]\n",
      "[0.97073597 0.02926405]\n",
      "[0.04931444 0.95068556]\n",
      "[0.032065 0.967935]\n",
      "[0.6789525  0.32104746]\n",
      "[0.6124658  0.38753414]\n",
      "[0.15112904 0.848871  ]\n",
      "[0.93459755 0.0654025 ]\n",
      "[0.9706769  0.02932316]\n",
      "[0.9692277  0.03077239]\n",
      "[0.06095375 0.93904626]\n",
      "[0.01665541 0.9833446 ]\n",
      "[0.01071417 0.9892859 ]\n",
      "[0.9710297 0.0289703]\n",
      "[0.33017373 0.6698262 ]\n",
      "[0.05484398 0.945156  ]\n",
      "[0.9713966  0.02860341]\n",
      "[0.05484398 0.945156  ]\n",
      "[0.04931444 0.95068556]\n",
      "[0.0398035 0.9601965]\n",
      "[0.397444 0.602556]\n",
      "[0.9656232  0.03437679]\n",
      "[0.9713966  0.02860341]\n",
      "[0.02074212 0.9792579 ]\n",
      "[0.00768469 0.9923153 ]\n",
      "[0.0166554 0.9833446]\n",
      "[0.00768469 0.9923153 ]\n",
      "[0.2692029 0.7307971]\n",
      "[0.5415088 0.4584912]\n",
      "[0.01336288 0.9866371 ]\n",
      "[0.08329298 0.91670704]\n",
      "[0.0398035 0.9601965]\n",
      "[0.00687744 0.9931225 ]\n",
      "[0.0166554 0.9833446]\n",
      "[0.01071416 0.9892859 ]\n",
      "[0.46882677 0.5311733 ]\n",
      "[0.9548538  0.04514619]\n",
      "[0.9523434 0.0476566]\n",
      "[0.06095375 0.93904626]\n",
      "[0.33017373 0.6698262 ]\n",
      "[0.00768469 0.9923153 ]\n",
      "[0.02876984 0.97123015]\n",
      "[0.9713785  0.02862157]\n",
      "[0.96368885 0.03631113]\n",
      "[0.92440844 0.07559155]\n",
      "[0.9467082  0.05329181]\n",
      "[0.9674223  0.03257766]\n",
      "[0.9708538  0.02914622]\n",
      "[0.16608045 0.8339196 ]\n",
      "[0.9692277  0.03077239]\n",
      "[0.7910898  0.20891024]\n",
      "[0.11283564 0.88716435]\n",
      "[0.01858889 0.98141116]\n",
      "[0.03573305 0.9642669 ]\n",
      "[0.9572379  0.04276207]\n",
      "[0.83517814 0.16482188]\n",
      "[0.02313885 0.9768612 ]\n",
      "[0.8714736  0.12852639]\n",
      "[0.9674223  0.03257766]\n",
      "[0.97132057 0.02867941]\n",
      "[0.9710882 0.0289119]\n",
      "[0.21596138 0.78403866]\n",
      "[0.97126263 0.02873736]\n",
      "[0.15112904 0.848871  ]\n",
      "[0.97132057 0.02867941]\n",
      "[0.01196634 0.98803365]\n",
      "[0.02313885 0.9768612 ]\n",
      "[0.9523434 0.0476566]\n",
      "[0.02313885 0.9768612 ]\n",
      "[0.33017373 0.6698262 ]\n",
      "[0.13730204 0.86269796]\n",
      "[0.06095375 0.93904626]\n",
      "[0.9709358  0.02906415]\n",
      "[0.1245544 0.8754456]\n",
      "[0.5415088 0.4584912]\n",
      "[0.01858889 0.98141116]\n",
      "[0.2692029 0.7307971]\n",
      "[0.01196634 0.98803365]\n",
      "[0.9708538  0.02914622]\n",
      "[0.7910898  0.20891024]\n",
      "[0.9656232  0.03437679]\n",
      "[0.03573305 0.9642669 ]\n",
      "[0.9706176  0.02938237]\n",
      "[0.9706177  0.02938236]\n",
      "[0.11283561 0.88716435]\n",
      "[0.9708538  0.02914622]\n",
      "[0.9077217  0.09227831]\n",
      "[0.97120464 0.02879543]\n",
      "[0.6789525  0.32104746]\n",
      "[0.09226266 0.9077374 ]\n",
      "[0.02313885 0.9768612 ]\n",
      "[0.9713966  0.02860341]\n",
      "[0.9523434 0.0476566]\n",
      "[0.97126263 0.02873736]\n",
      "[0.06769545 0.93230456]\n",
      "[0.397444 0.602556]\n",
      "[0.92440844 0.07559155]\n",
      "[0.0166554 0.9833446]\n",
      "[0.02876984 0.97123015]\n",
      "[0.1245544 0.8754456]\n",
      "[0.9706177  0.02938236]\n",
      "[0.9714296  0.02857042]\n",
      "[0.97140765 0.02859241]\n",
      "[0.9714362  0.02856385]\n",
      "[0.9674223  0.03257766]\n",
      "[0.9710882 0.0289119]\n",
      "[0.04431632 0.95568365]\n",
      "[0.9523434 0.0476566]\n",
      "[0.9706177  0.02938236]\n",
      "[0.96368885 0.03631113]\n",
      "[0.9714296  0.02857042]\n",
      "[0.02313886 0.9768611 ]\n",
      "[0.9698075  0.03019244]\n",
      "[0.02313885 0.9768612 ]\n",
      "[0.5415088 0.4584912]\n",
      "[0.9680352  0.03196481]\n",
      "[0.02876984 0.97123015]\n",
      "[0.06095375 0.93904626]\n",
      "[0.00959175 0.99040824]\n",
      "[0.6789525  0.32104746]\n",
      "[0.05484398 0.945156  ]\n",
      "[0.9616501  0.03834999]\n",
      "[0.032065 0.967935]\n",
      "[0.9705583  0.02944169]\n",
      "[0.9706177  0.02938236]\n",
      "[0.10209074 0.8979093 ]\n",
      "[0.16608045 0.8339196 ]\n",
      "[0.0166554 0.9833446]\n",
      "[0.9709126  0.02908746]\n",
      "[0.5415088 0.4584912]\n",
      "[0.01071416 0.9892859 ]\n",
      "[0.92984486 0.0701552 ]\n",
      "[0.9388948  0.06110521]\n",
      "[0.08329298 0.91670704]\n",
      "[0.00959175 0.99040824]\n",
      "[0.9616501  0.03834999]\n",
      "[0.92984486 0.0701552 ]\n",
      "[0.9705583  0.02944169]\n",
      "[0.02580524 0.97419477]\n",
      "[0.6124658  0.38753414]\n",
      "[0.16608045 0.8339196 ]\n",
      "[0.09226268 0.9077373 ]\n",
      "[0.02580524 0.97419477]\n",
      "[0.9698075  0.03019243]\n",
      "[0.02876984 0.97123015]\n",
      "[0.9523434 0.0476566]\n",
      "[0.03573305 0.9642669 ]\n",
      "[0.9680352  0.03196481]\n",
      "[0.01196634 0.98803365]\n",
      "[0.9523434 0.0476566]\n",
      "[0.15112904 0.848871  ]\n",
      "[0.7388954  0.26110458]\n",
      "[0.8714736 0.1285264]\n",
      "[0.06769545 0.93230456]\n",
      "[0.00687744 0.9931225 ]\n",
      "[0.04931444 0.95068556]\n",
      "[0.9077217  0.09227831]\n",
      "[0.02876984 0.97123015]\n",
      "[0.08329298 0.91670704]\n",
      "[0.00687744 0.9931225 ]\n",
      "[0.1245544 0.8754456]\n",
      "[0.15112902 0.848871  ]\n",
      "[0.00687744 0.9931225 ]\n",
      "[0.01071416 0.9892859 ]\n",
      "[0.01491997 0.98508006]\n",
      "[0.18219347 0.8178065 ]\n",
      "[0.02876984 0.97123015]\n",
      "[0.04931444 0.95068556]\n",
      "[0.9467082  0.05329181]\n",
      "[0.9710297 0.0289703]\n",
      "[0.9709358  0.02906415]\n",
      "[0.01665541 0.9833446 ]\n",
      "[0.0398035 0.9601965]\n",
      "[0.96368885 0.03631113]\n",
      "[0.397444 0.602556]\n",
      "[0.02876984 0.97123015]\n",
      "[0.05484398 0.945156  ]\n",
      "[0.5415088 0.4584912]\n",
      "[0.1245544 0.8754456]\n",
      "[0.9706769  0.02932316]\n",
      "[0.9713966  0.02860341]\n",
      "[0.7910898  0.20891024]\n",
      "[0.97120464 0.02879543]\n",
      "[0.97120464 0.02879543]\n",
      "[0.07512311 0.92487687]\n",
      "[0.01858889 0.98141116]\n",
      "[0.89373183 0.10626817]\n",
      "[0.97126263 0.02873736]\n",
      "[0.9706177  0.02938236]\n",
      "[0.9706769  0.02932316]\n",
      "[0.9595015  0.04049853]\n",
      "[0.07512311 0.92487687]\n",
      "[0.02074211 0.9792579 ]\n"
     ]
    }
   ],
   "source": [
    "for i in predictions:\n",
    "  print(i)"
   ]
  },
  {
   "cell_type": "code",
   "execution_count": 17,
   "metadata": {
    "id": "v2uCZh0p0fjR"
   },
   "outputs": [],
   "source": [
    "rounded_predictions = np.argmax(predictions, axis=-1)"
   ]
  },
  {
   "cell_type": "markdown",
   "metadata": {
    "id": "ZlJCkZ3zM-1Z"
   },
   "source": [
    "Confusion Matrix"
   ]
  },
  {
   "cell_type": "code",
   "execution_count": 18,
   "metadata": {
    "id": "FpcGWc-A089H"
   },
   "outputs": [],
   "source": [
    "%matplotlib inline\n",
    "from sklearn.metrics import confusion_matrix\n",
    "import itertools\n",
    "import matplotlib.pyplot as plt"
   ]
  },
  {
   "cell_type": "code",
   "execution_count": 19,
   "metadata": {
    "id": "MBI4yafQ1Tqo"
   },
   "outputs": [],
   "source": [
    "cm = confusion_matrix(y_true=test_labels, y_pred=rounded_predictions)"
   ]
  },
  {
   "cell_type": "code",
   "execution_count": 20,
   "metadata": {
    "id": "VakxJPZn3nPK"
   },
   "outputs": [],
   "source": [
    "#Function from scikit documentation\n",
    "def plot_confusion_matrix(cm, classes,\n",
    "                          normalize=False,\n",
    "                          title='Confusion matrix',\n",
    "                          cmap=plt.cm.Blues):\n",
    "    \"\"\"\n",
    "    This function prints and plots the confusion matrix.\n",
    "    Normalization can be applied by setting `normalize=True`.\n",
    "    \"\"\"\n",
    "    plt.imshow(cm, interpolation='nearest', cmap=cmap)\n",
    "    plt.title(title)\n",
    "    plt.colorbar()\n",
    "    tick_marks = np.arange(len(classes))\n",
    "    plt.xticks(tick_marks, classes, rotation=45)\n",
    "    plt.yticks(tick_marks, classes)\n",
    "\n",
    "    if normalize:\n",
    "        cm = cm.astype('float') / cm.sum(axis=1)[:, np.newaxis]\n",
    "        print(\"Normalized confusion matrix\")\n",
    "    else:\n",
    "        print('Confusion matrix, without normalization')\n",
    "\n",
    "    print(cm)\n",
    "\n",
    "    thresh = cm.max() / 2.\n",
    "    for i, j in itertools.product(range(cm.shape[0]), range(cm.shape[1])):\n",
    "        plt.text(j, i, cm[i, j],\n",
    "                 horizontalalignment=\"center\",\n",
    "                 color=\"white\" if cm[i, j] > thresh else \"black\")\n",
    "\n",
    "    plt.tight_layout()\n",
    "    plt.ylabel('True label')\n",
    "    plt.xlabel('Predicted label')"
   ]
  },
  {
   "cell_type": "code",
   "execution_count": 21,
   "metadata": {
    "colab": {
     "base_uri": "https://localhost:8080/",
     "height": 362
    },
    "id": "HYvYnDT512RR",
    "outputId": "7ce05d3a-33ed-46e8-b542-a351bbadd5e2"
   },
   "outputs": [
    {
     "name": "stdout",
     "output_type": "stream",
     "text": [
      "Confusion matrix, without normalization\n",
      "[[196  14]\n",
      " [ 10 200]]\n"
     ]
    },
    {
     "data": {
      "image/png": "[encoded data removed]",
      "text/plain": [
       "<Figure size 432x288 with 2 Axes>"
      ]
     },
     "metadata": {
      "needs_background": "light"
     },
     "output_type": "display_data"
    }
   ],
   "source": [
    "cm_plot_labels = ['no_side_effects', 'had_side_effects']\n",
    "plot_confusion_matrix(cm, classes=cm_plot_labels, title='Confusion Matrix')"
   ]
  },
  {
   "cell_type": "markdown",
   "metadata": {
    "id": "7pa3vdoAM1cp"
   },
   "source": [
    "Saving and Loading model"
   ]
  },
  {
   "cell_type": "code",
   "execution_count": 32,
   "metadata": {
    "colab": {
     "base_uri": "https://localhost:8080/"
    },
    "id": "xkjCtCuD2tMH",
    "outputId": "68a92bde-3adc-459f-ec73-8053fca1b949"
   },
   "outputs": [],
   "source": [
    "import os.path\n",
    "if os.path.isfile(\"/Users/jacobimmanuel/Medical Side Effects/medical_trial_model.h5\") is False:\n",
    "    model.save(\"/Users/jacobimmanuel/Medical Side Effects/medical_trial_model.h5\")"
   ]
  },
  {
   "cell_type": "code",
   "execution_count": 33,
   "metadata": {
    "id": "jeyfm1rG5Nwe"
   },
   "outputs": [],
   "source": [
    "from tensorflow.keras.models import load_model\n",
    "new_model = load_model(\"/Users/jacobimmanuel/Medical Side Effects/medical_trial_model.h5\")"
   ]
  },
  {
   "cell_type": "code",
   "execution_count": 34,
   "metadata": {
    "colab": {
     "base_uri": "https://localhost:8080/"
    },
    "id": "k07r_w8p9eYL",
    "outputId": "4cca60ca-9e82-46b4-9391-bc4b9e383f7f",
    "scrolled": false
   },
   "outputs": [
    {
     "name": "stdout",
     "output_type": "stream",
     "text": [
      "Model: \"sequential\"\n",
      "_________________________________________________________________\n",
      "Layer (type)                 Output Shape              Param #   \n",
      "=================================================================\n",
      "dense (Dense)                (None, 16)                32        \n",
      "_________________________________________________________________\n",
      "dense_1 (Dense)              (None, 32)                544       \n",
      "_________________________________________________________________\n",
      "dense_2 (Dense)              (None, 2)                 66        \n",
      "=================================================================\n",
      "Total params: 642\n",
      "Trainable params: 642\n",
      "Non-trainable params: 0\n",
      "_________________________________________________________________\n"
     ]
    }
   ],
   "source": [
    "new_model.summary()"
   ]
  },
  {
   "cell_type": "code",
   "execution_count": 35,
   "metadata": {},
   "outputs": [
    {
     "name": "stdout",
     "output_type": "stream",
     "text": [
      "Model: \"sequential\"\n",
      "_________________________________________________________________\n",
      "Layer (type)                 Output Shape              Param #   \n",
      "=================================================================\n",
      "dense (Dense)                (None, 16)                32        \n",
      "_________________________________________________________________\n",
      "dense_1 (Dense)              (None, 32)                544       \n",
      "_________________________________________________________________\n",
      "dense_2 (Dense)              (None, 2)                 66        \n",
      "=================================================================\n",
      "Total params: 642\n",
      "Trainable params: 642\n",
      "Non-trainable params: 0\n",
      "_________________________________________________________________\n"
     ]
    }
   ],
   "source": [
    "model.summary()"
   ]
  },
  {
   "cell_type": "code",
   "execution_count": 29,
   "metadata": {
    "collapsed": true,
    "id": "9NnJVMjBLeWN"
   },
   "outputs": [
    {
     "data": {
      "text/plain": [
       "[array([[-0.13678655, -0.28300148, -0.04486388, -0.2229189 ,  0.68408406,\n",
       "         -0.2938895 ,  0.6943243 , -0.4495879 ,  0.56991833, -0.569032  ,\n",
       "         -0.30184326,  0.40710297,  0.48397583,  0.08567038,  0.5840691 ,\n",
       "         -0.52744627]], dtype=float32),\n",
       " array([ 0.        ,  0.        ,  0.        ,  0.        , -0.20467858,\n",
       "         0.        , -0.15294987,  0.        , -0.2834489 ,  0.        ,\n",
       "         0.        , -0.07049107, -0.24439235,  0.1777103 , -0.28024164,\n",
       "         0.        ], dtype=float32),\n",
       " array([[-3.00561637e-01, -1.03935599e-03, -3.07145417e-01,\n",
       "          1.84576362e-01, -1.87329173e-01,  3.30789179e-01,\n",
       "         -1.71121255e-01,  2.63544172e-01, -3.35213602e-01,\n",
       "         -1.01671249e-01, -2.03827918e-02, -2.87291646e-01,\n",
       "          3.11396688e-01,  2.30097860e-01,  2.47347385e-01,\n",
       "         -2.76070714e-01,  5.40912151e-03, -4.58611548e-02,\n",
       "          4.61562872e-02,  1.48041546e-02,  7.63427913e-02,\n",
       "         -2.51014471e-01,  2.34369010e-01, -2.70377100e-02,\n",
       "          3.16251963e-01, -1.85661241e-01,  2.38618255e-03,\n",
       "          2.01194972e-01, -2.70731628e-01, -2.46374875e-01,\n",
       "          3.43805224e-01, -5.51419854e-02],\n",
       "        [-2.46303141e-01,  9.42846835e-02,  1.51056081e-01,\n",
       "         -2.13482976e-01,  2.13742763e-01, -4.71248031e-02,\n",
       "          2.02484518e-01, -2.29513705e-01,  2.71315128e-01,\n",
       "          1.58576816e-01,  3.38220030e-01, -2.67280936e-02,\n",
       "          6.24185801e-03,  2.39340514e-01,  3.21177870e-01,\n",
       "          2.81468362e-01,  3.24610144e-01, -3.24446619e-01,\n",
       "         -2.61126459e-01,  2.82112390e-01, -2.89778888e-01,\n",
       "          3.01159889e-01, -1.30575240e-01,  3.46158892e-01,\n",
       "          1.37234449e-01, -2.18252987e-01, -2.36661211e-01,\n",
       "          2.55847961e-01,  2.23238200e-01,  2.01815814e-01,\n",
       "         -3.03169191e-01,  1.65728122e-01],\n",
       "        [ 3.14242542e-02, -3.43680054e-01,  3.32556754e-01,\n",
       "         -1.19318575e-01, -2.68193364e-01,  1.57577425e-01,\n",
       "         -1.24519318e-01, -1.06089354e-01,  2.88456291e-01,\n",
       "          3.15905184e-01, -3.43680739e-01, -7.10327029e-02,\n",
       "         -3.27833116e-01,  8.17972422e-02,  6.96349442e-02,\n",
       "         -6.21275604e-02,  3.22104305e-01,  1.13122970e-01,\n",
       "         -1.78181872e-01, -6.90642595e-02, -1.63351312e-01,\n",
       "          1.08614296e-01, -2.43292332e-01,  4.96962667e-02,\n",
       "          2.20390946e-01, -4.84865904e-02,  3.47580016e-02,\n",
       "          2.38476127e-01, -6.87960386e-02,  2.07514912e-01,\n",
       "          2.20483929e-01,  1.38469011e-01],\n",
       "        [ 8.67837667e-03, -5.54796755e-02,  5.08377850e-02,\n",
       "          3.10971409e-01, -3.40332836e-01,  1.07467800e-01,\n",
       "          3.44632268e-02, -1.43262193e-01,  1.04904175e-01,\n",
       "          2.62809187e-01, -1.46501854e-01, -2.73454070e-01,\n",
       "         -1.54232845e-01,  6.46457076e-03,  2.48040766e-01,\n",
       "          1.06455445e-01,  3.40060294e-02,  3.39530438e-01,\n",
       "          2.04708308e-01,  6.01972342e-02,  1.75572366e-01,\n",
       "         -1.62189752e-01,  3.16277772e-01,  3.24025482e-01,\n",
       "          3.08860332e-01, -3.32302958e-01,  2.76025206e-01,\n",
       "         -3.31578523e-01,  2.41189986e-01, -4.52129543e-02,\n",
       "          1.20515525e-01, -4.79845107e-02],\n",
       "        [ 2.66658306e-01, -2.23126113e-02, -3.05367082e-01,\n",
       "         -1.14386745e-01,  3.86869192e-01, -2.81812608e-01,\n",
       "         -1.39441743e-01, -5.73657811e-01,  1.67095717e-02,\n",
       "         -2.16068029e-01,  5.01201332e-01,  4.78263676e-01,\n",
       "          1.06083211e-02,  4.75265890e-01,  5.34334004e-01,\n",
       "          2.67659456e-01, -6.43230677e-01, -1.55238807e-01,\n",
       "          4.88634527e-01,  1.92476381e-02, -9.04561877e-02,\n",
       "          3.13496590e-01,  2.29768068e-01,  4.39781636e-01,\n",
       "          3.71941686e-01,  2.33484536e-01, -3.12386274e-01,\n",
       "         -5.77695072e-01,  1.47596508e-01,  3.16748679e-01,\n",
       "         -4.15021360e-01,  7.82591999e-02],\n",
       "        [ 1.00650817e-01,  6.25315905e-02,  3.44675571e-01,\n",
       "          3.65734398e-02, -2.65302777e-01,  9.56301093e-02,\n",
       "          1.40771270e-02,  1.27568901e-01,  1.06458724e-01,\n",
       "          2.90823191e-01,  2.18915194e-01,  3.06824356e-01,\n",
       "         -1.46493003e-01,  2.81267077e-01, -1.12497866e-01,\n",
       "         -2.34519392e-01,  5.25999367e-02, -1.09592766e-01,\n",
       "          2.48105437e-01, -2.49723613e-01, -7.91471303e-02,\n",
       "          5.72600365e-02,  4.08462882e-02,  2.48970360e-01,\n",
       "          1.45770013e-01, -1.54353678e-02, -8.69224668e-02,\n",
       "         -1.10914990e-01,  1.35213673e-01,  1.09515816e-01,\n",
       "         -2.44139731e-02, -8.82443786e-02],\n",
       "        [ 3.07475597e-01,  2.31987238e-02, -3.70537847e-01,\n",
       "         -1.48791537e-01,  4.13410544e-01, -1.71670943e-01,\n",
       "         -3.53162348e-01, -3.79789740e-01,  5.59657454e-01,\n",
       "         -2.62699783e-01,  8.63905847e-02,  5.23282349e-01,\n",
       "          1.69178650e-01,  1.62356913e-01,  5.00723347e-02,\n",
       "          1.07936233e-01, -4.35826555e-02,  2.26748079e-01,\n",
       "          1.98886395e-01,  2.58211881e-01, -2.00974047e-01,\n",
       "          5.59760630e-01, -1.55175850e-01,  4.41595703e-01,\n",
       "          2.07586244e-01, -1.29162893e-01, -1.79709017e-01,\n",
       "         -2.21295312e-01,  1.50000751e-02,  3.68637085e-01,\n",
       "         -2.90132135e-01, -3.31303805e-01],\n",
       "        [-2.96240002e-01, -2.95105308e-01,  7.72725344e-02,\n",
       "          1.56729013e-01,  1.83623046e-01, -1.83802992e-01,\n",
       "         -7.95631409e-02,  3.27748358e-02,  3.21091026e-01,\n",
       "          5.36799431e-03, -3.29391956e-02, -1.53064623e-01,\n",
       "          1.90681517e-02,  3.27577889e-02,  3.64568830e-03,\n",
       "          2.52073139e-01, -2.26681679e-01,  2.58271843e-01,\n",
       "         -3.26228142e-01, -1.99773699e-01, -3.18928897e-01,\n",
       "          1.14308923e-01, -6.83777034e-02,  1.19678378e-02,\n",
       "         -2.01640382e-01,  1.41648561e-01,  1.87895089e-01,\n",
       "          2.11953193e-01, -8.52403939e-02,  2.82204896e-01,\n",
       "         -4.67642844e-02, -2.80274600e-01],\n",
       "        [ 2.56363302e-01, -3.21705967e-01, -8.86035323e-01,\n",
       "         -3.09077315e-02,  1.96816415e-01,  2.01655358e-01,\n",
       "          1.41109079e-01, -4.57315803e-01,  2.78393418e-01,\n",
       "          3.42752397e-01,  4.70289826e-01,  2.04900876e-01,\n",
       "         -9.17555094e-02,  5.75589955e-01,  4.20166165e-01,\n",
       "         -1.48100823e-01, -7.22531021e-01,  2.86139160e-01,\n",
       "          3.96410286e-01,  3.90865535e-01, -1.45253628e-01,\n",
       "          1.50266021e-01, -3.37642014e-01,  2.01120332e-01,\n",
       "          5.22537172e-01,  3.51119250e-01, -3.39293510e-01,\n",
       "         -7.84837604e-01, -2.15425268e-01,  4.49908376e-01,\n",
       "         -7.50301659e-01, -1.44323409e-02],\n",
       "        [-3.51706684e-01,  2.26576895e-01,  1.71849042e-01,\n",
       "         -4.65648472e-02,  1.42462909e-01,  1.67329609e-02,\n",
       "          2.90721357e-02, -9.19971168e-02, -4.37157154e-02,\n",
       "         -1.00621462e-01,  1.31809384e-01,  1.30001962e-01,\n",
       "         -1.05736658e-01, -9.57128406e-03, -3.27047557e-01,\n",
       "         -2.82805681e-01, -2.53412306e-01, -3.29364836e-02,\n",
       "         -3.80295217e-02, -5.68491817e-02,  1.78312033e-01,\n",
       "          2.25877374e-01, -2.43343115e-02,  6.76304102e-03,\n",
       "          2.51715392e-01,  2.18416363e-01, -1.30676389e-01,\n",
       "         -9.90667641e-02,  7.87506998e-02,  2.91394889e-02,\n",
       "          9.09314156e-02,  7.27243125e-02],\n",
       "        [ 2.27729678e-02, -3.47894162e-01,  7.37697184e-02,\n",
       "          6.11966252e-02,  1.67049617e-01, -1.79194406e-01,\n",
       "         -1.06339023e-01, -2.48995155e-01,  2.95702428e-01,\n",
       "          7.55284131e-02,  1.54077113e-02,  7.73963630e-02,\n",
       "         -3.10334563e-01, -3.20661992e-01, -1.18382156e-01,\n",
       "         -1.00224704e-01, -8.22934210e-02, -2.29975790e-01,\n",
       "         -3.06139112e-01, -3.36686313e-01,  3.73508036e-02,\n",
       "         -2.94886053e-01,  2.61211425e-01,  2.79742509e-01,\n",
       "          1.08792067e-01, -2.43098974e-01, -8.68210793e-02,\n",
       "         -5.08370101e-02, -2.35950351e-01,  3.34004134e-01,\n",
       "         -2.29010969e-01,  1.41456634e-01],\n",
       "        [-8.66001770e-02, -2.38186002e-01,  1.69839542e-02,\n",
       "         -1.13240153e-01, -1.18620768e-01, -1.16426796e-01,\n",
       "         -2.69491851e-01, -2.57523566e-01,  1.61424011e-01,\n",
       "          3.23643386e-01,  3.62475425e-01, -6.16001301e-02,\n",
       "         -2.81984776e-01,  1.62154883e-01, -7.20206872e-02,\n",
       "         -3.24823141e-01,  1.28387854e-01, -3.21722925e-02,\n",
       "          3.04130226e-01,  4.00787771e-01,  1.58652589e-01,\n",
       "          8.34561288e-02,  1.23873204e-01,  3.03955704e-01,\n",
       "          8.15123916e-02, -3.40002000e-01,  6.24399483e-02,\n",
       "          9.21867266e-02, -2.12782666e-01, -6.03967011e-02,\n",
       "         -2.01060921e-01, -1.19614691e-01],\n",
       "        [ 2.33578861e-01,  6.96307421e-03, -8.63406360e-01,\n",
       "         -6.52776241e-01,  1.81061458e-02,  8.88510346e-02,\n",
       "         -4.43637371e-04, -7.85250366e-01,  8.44730213e-02,\n",
       "         -3.42380226e-01,  3.90303850e-01,  3.30813617e-01,\n",
       "         -2.05119159e-02,  2.32636675e-01,  2.91560352e-01,\n",
       "         -1.80519164e-01, -7.44750857e-01,  2.47250199e-02,\n",
       "          4.56977904e-01,  4.98087704e-02, -2.85027117e-01,\n",
       "          3.31453055e-01,  2.84194440e-01,  8.38206038e-02,\n",
       "          4.54686344e-01, -2.98261702e-01, -3.15954745e-01,\n",
       "         -9.98103559e-01,  3.13350171e-01,  1.21868193e-01,\n",
       "         -1.20540249e+00,  1.22813135e-01],\n",
       "        [ 2.93449879e-01, -1.36346996e-01,  3.04777294e-01,\n",
       "          5.54614468e-03,  1.36242947e-02, -1.22472927e-01,\n",
       "         -1.47607625e-02,  3.31054449e-01,  1.14688408e-02,\n",
       "         -1.72561258e-01, -1.07781030e-01, -1.75833702e-01,\n",
       "          2.01426178e-01,  3.77799988e-01,  9.26889572e-03,\n",
       "         -3.00353706e-01,  1.54278040e-01, -2.57398397e-01,\n",
       "          3.60160433e-02, -1.00880444e-01,  4.35144603e-02,\n",
       "          1.23034306e-01, -1.76828369e-01, -9.38029140e-02,\n",
       "          1.49946317e-01, -8.18022192e-02,  1.57199010e-01,\n",
       "         -5.89381754e-02, -2.41968930e-01,  3.34976852e-01,\n",
       "          4.41439807e-01, -3.03608447e-01],\n",
       "        [ 4.22157675e-01, -2.62881428e-01, -6.46116793e-01,\n",
       "          9.49798003e-02,  2.47927427e-01, -3.14804167e-01,\n",
       "         -4.90072668e-02, -3.15118968e-01,  4.78734374e-01,\n",
       "          1.80519000e-01,  6.91386387e-02, -4.84078564e-03,\n",
       "         -7.12241828e-02,  4.26997125e-01,  1.64339378e-01,\n",
       "         -6.22679293e-02, -7.45297194e-01, -2.18523487e-01,\n",
       "          1.45376682e-01,  3.82938713e-01,  3.71255614e-02,\n",
       "          2.95413703e-01, -3.30901057e-01, -9.57447365e-02,\n",
       "          3.79140824e-01, -1.29632667e-01,  2.41232812e-01,\n",
       "         -2.20485136e-01, -2.96455264e-01,  1.86505452e-01,\n",
       "         -6.85055971e-01,  2.00266391e-01],\n",
       "        [-1.21021971e-01,  1.48599654e-01, -5.99301159e-02,\n",
       "          9.20982063e-02, -8.96562040e-02, -1.75806224e-01,\n",
       "         -1.90528870e-01, -1.80613324e-01, -1.51931554e-01,\n",
       "         -8.93754959e-02,  3.15282255e-01, -2.88492054e-01,\n",
       "         -1.02028847e-01, -1.18817359e-01, -3.20722520e-01,\n",
       "          1.31224394e-01, -3.85169983e-02,  2.98034102e-01,\n",
       "          2.45373875e-01, -1.03831112e-01,  1.52517557e-02,\n",
       "          2.23979622e-01,  2.09389597e-01,  3.51639241e-01,\n",
       "          3.34564120e-01,  2.37943530e-02, -2.73159742e-02,\n",
       "         -2.03187257e-01,  2.65107125e-01,  1.77656412e-02,\n",
       "         -8.93754959e-02,  1.87314421e-01]], dtype=float32),\n",
       " array([-0.13592269,  0.        ,  0.29073125,  0.12084483, -0.09637391,\n",
       "         0.        ,  0.        ,  0.32848084, -0.12331968, -0.0075094 ,\n",
       "        -0.09192473, -0.05416597,  0.08449406, -0.19944412, -0.0649407 ,\n",
       "         0.        ,  0.2776346 ,  0.        , -0.1293716 , -0.07029689,\n",
       "         0.13293822, -0.16996817,  0.        , -0.09417924, -0.13338451,\n",
       "         0.        , -0.0458751 ,  0.34124118,  0.        , -0.15239768,\n",
       "         0.3251669 ,  0.        ], dtype=float32),\n",
       " array([[-0.5291554 ,  0.18940872],\n",
       "        [ 0.21025285, -0.3430201 ],\n",
       "        [ 0.59339327, -1.0624511 ],\n",
       "        [ 0.3258603 , -0.00806536],\n",
       "        [-0.67064446,  0.22531427],\n",
       "        [-0.39010268, -0.06784979],\n",
       "        [-0.30562454,  0.28172264],\n",
       "        [ 1.205085  , -0.6914843 ],\n",
       "        [-0.41545704,  0.15343256],\n",
       "        [ 0.38821015,  0.41330168],\n",
       "        [-0.6368975 ,  0.30793852],\n",
       "        [-0.6165724 ,  0.66183215],\n",
       "        [ 0.23292561, -0.16368555],\n",
       "        [-0.11223356,  0.2679193 ],\n",
       "        [-0.5754821 ,  0.26842982],\n",
       "        [ 0.01676419,  0.41167256],\n",
       "        [ 0.98370695, -0.66646194],\n",
       "        [ 0.36087862,  0.3890383 ],\n",
       "        [-0.32174078,  0.53361523],\n",
       "        [-0.658333  ,  0.47955552],\n",
       "        [-0.10291072, -0.18427038],\n",
       "        [-0.26560155,  0.21358222],\n",
       "        [-0.02857015, -0.0255194 ],\n",
       "        [-0.6648884 ,  0.08657885],\n",
       "        [-0.40638113,  0.29482135],\n",
       "        [-0.27459985, -0.2788551 ],\n",
       "        [-0.24177665,  0.07312875],\n",
       "        [ 1.2600594 , -0.9906168 ],\n",
       "        [-0.28289068, -0.19074969],\n",
       "        [-0.11771398,  0.57606745],\n",
       "        [ 1.0144128 , -0.7316464 ],\n",
       "        [ 0.30600825,  0.21786419]], dtype=float32),\n",
       " array([ 0.06869844, -0.06869838], dtype=float32)]"
      ]
     },
     "execution_count": 29,
     "metadata": {},
     "output_type": "execute_result"
    }
   ],
   "source": [
    "new_model.get_weights()"
   ]
  },
  {
   "cell_type": "code",
   "execution_count": 36,
   "metadata": {
    "colab": {
     "base_uri": "https://localhost:8080/"
    },
    "id": "_6-waf9nLm75",
    "outputId": "9af2e829-7c00-43a3-e1a3-a2ae3236806b"
   },
   "outputs": [
    {
     "data": {
      "text/plain": [
       "<tensorflow.python.keras.optimizer_v2.adam.Adam at 0x1a44c09d90>"
      ]
     },
     "execution_count": 36,
     "metadata": {},
     "output_type": "execute_result"
    }
   ],
   "source": [
    "new_model.optimizer"
   ]
  },
  {
   "cell_type": "code",
   "execution_count": 37,
   "metadata": {
    "colab": {
     "base_uri": "https://localhost:8080/"
    },
    "id": "wgncheC4-8JQ",
    "outputId": "a4a46962-3fa6-41c4-8340-2cc3e23c3e8a"
   },
   "outputs": [
    {
     "data": {
      "text/plain": [
       "<tensorflow.python.keras.optimizer_v2.adam.Adam at 0x1a42aa1150>"
      ]
     },
     "execution_count": 37,
     "metadata": {},
     "output_type": "execute_result"
    }
   ],
   "source": [
    "model.optimizer"
   ]
  },
  {
   "cell_type": "code",
   "execution_count": 39,
   "metadata": {},
   "outputs": [
    {
     "data": {
      "text/plain": [
       "'/Users/jacobimmanuel/Medical Side Effects'"
      ]
     },
     "execution_count": 39,
     "metadata": {},
     "output_type": "execute_result"
    }
   ],
   "source": [
    "%pwd #Check current directory"
   ]
  },
  {
   "cell_type": "code",
   "execution_count": 38,
   "metadata": {},
   "outputs": [
    {
     "name": "stdout",
     "output_type": "stream",
     "text": [
      "/Users/jacobimmanuel/Medical Side Effects\n"
     ]
    }
   ],
   "source": [
    "%cd \"/Users/jacobimmanuel/Medical Side Effects/\" #change directory"
   ]
  },
  {
   "cell_type": "code",
   "execution_count": null,
   "metadata": {},
   "outputs": [],
   "source": []
  }
 ],
 "metadata": {
  "colab": {
   "name": "Medical Side Effects - Sequential model.ipynb",
   "provenance": []
  },
  "kernelspec": {
   "display_name": "Python 3",
   "language": "python",
   "name": "python3"
  },
  "language_info": {
   "codemirror_mode": {
    "name": "ipython",
    "version": 3
   },
   "file_extension": ".py",
   "mimetype": "text/x-python",
   "name": "python",
   "nbconvert_exporter": "python",
   "pygments_lexer": "ipython3",
   "version": "3.7.9"
  }
 },
 "nbformat": 4,
 "nbformat_minor": 1
}
